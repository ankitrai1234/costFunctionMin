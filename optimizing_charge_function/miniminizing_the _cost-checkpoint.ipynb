{
 "cells": [
  {
   "cell_type": "code",
   "execution_count": 1,
   "id": "d4c421d5",
   "metadata": {},
   "outputs": [
    {
     "name": "stdout",
     "output_type": "stream",
     "text": [
      "Optimization result: Optimization terminated successfully. (HiGHS Status 7: Optimal)\n",
      "Optimal charge burden:\n",
      "x1_opt = 263.3097921944565\n",
      "x2_opt = 400.0\n",
      "x3_opt = 300.0\n",
      "x4_opt = 12.917039192279377\n",
      "x5_opt = 16.964663760458503\n",
      "x6_opt = 6.2113319146686505\n",
      "x7_opt = 0.5971729381369727\n",
      "Optimal cost: 239181.97621531697\n"
     ]
    }
   ],
   "source": [
    "import numpy as np\n",
    "from scipy.optimize import linprog\n",
    "\n",
    "# Define the coefficients of the objective function (costs)\n",
    "c = np.array([270, 180, 210, 340, 1300, 980, 930])\n",
    "\n",
    "# Define the coefficients of the inequality constraints (LHS matrix)\n",
    "A = np.array([\n",
    "    [3.85, 0.16, 3.04, 98, 0.12, 6.78, 0.4],  # C constraint (>= 3.3)\n",
    "    [-3.85, -0.16, -3.04, -98, -0.12, -6.78, -0.4],  # C constraint (<= 3.4)\n",
    "    [0.04, 0.07, 1.85, 0, 73.7, 0.96, 0.35],  # Si constraint (>= 1.85)\n",
    "    [-0.04, -0.07, -1.85, 0, -73.7, -0.96, -0.35],  # Si constraint (<= 1.95)\n",
    "    [0.03, 0.15, 0.72, 0, 0, 75.00, 0.42],  # Mn constraint (>= 0.75)\n",
    "    [-0.03, -0.15, -0.72, 0, 0, -75.00, -0.42],  # Mn constraint (<= 0.85)\n",
    "    [0.02, 0.01, 0.09, 0, 0.03, 0.17, 0.01],  # P constraint (<= 0.08)\n",
    "    [0.010,0.010,0.060,0.100,0.010,0.003,40.000],  # S constraint (>= 0.05)\n",
    "    [-0.010,-0.010,-0.060,-0.100,-0.010,-0.003,-40.000]  # S constraint (<= 0.07)\n",
    "])\n",
    "\n",
    "# Define the RHS of the inequality constraints\n",
    "b = np.array([3.4*1000, -3.3*1000, 1.95*1000, -1.85*1000, 0.85*1000, -0.75*1000, 0.08*1000, 0.07*1000, -0.05*1000])\n",
    "\n",
    "# Define the equality constraint coefficients (total weight constraint)\n",
    "A_eq = np.array([[1, 1, 1, 1, 1, 1, 1]])\n",
    "b_eq = np.array([1000])\n",
    "\n",
    "# Bounds for each variable (charge materials)\n",
    "x_bounds = [(250, 400), (None, 400), (None, 300),(None,1000),(None,None),(None,None),(None,None)]\n",
    "\n",
    "# Solve the linear programming problem\n",
    "res = linprog(c, A_ub=A, b_ub=b, A_eq=A_eq, b_eq=b_eq, bounds=x_bounds, method=\"highs\")\n",
    "\n",
    "# Print the results of the optimization\n",
    "print(\"Optimization result:\", res.message)\n",
    "\n",
    "if res.success:\n",
    "    print(\"Optimal charge burden:\")\n",
    "    for i, x_opt in enumerate(res.x):\n",
    "        print(f\"x{i+1}_opt =\", x_opt)\n",
    "    print(\"Optimal cost:\", res.fun)\n",
    "else:\n",
    "    print(\"Optimization failed. No feasible solution found.\")\n"
   ]
  },
  {
   "cell_type": "code",
   "execution_count": null,
   "id": "75dfbce1",
   "metadata": {},
   "outputs": [],
   "source": []
  }
 ],
 "metadata": {
  "kernelspec": {
   "display_name": "Python 3 (ipykernel)",
   "language": "python",
   "name": "python3"
  },
  "language_info": {
   "codemirror_mode": {
    "name": "ipython",
    "version": 3
   },
   "file_extension": ".py",
   "mimetype": "text/x-python",
   "name": "python",
   "nbconvert_exporter": "python",
   "pygments_lexer": "ipython3",
   "version": "3.11.4"
  }
 },
 "nbformat": 4,
 "nbformat_minor": 5
}
